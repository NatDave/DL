{
  "nbformat": 4,
  "nbformat_minor": 0,
  "metadata": {
    "colab": {
      "provenance": [],
      "gpuType": "T4",
      "authorship_tag": "ABX9TyPOIcECEroVUvppqsV5XIWz"
    },
    "kernelspec": {
      "name": "python3",
      "display_name": "Python 3"
    },
    "language_info": {
      "name": "python"
    },
    "accelerator": "GPU"
  },
  "cells": [
    {
      "cell_type": "code",
      "execution_count": 1,
      "metadata": {
        "colab": {
          "base_uri": "https://localhost:8080/"
        },
        "id": "CzcB15Xkr8IF",
        "outputId": "22923331-a4ba-4724-d71e-7222eaff9b09"
      },
      "outputs": [
        {
          "output_type": "stream",
          "name": "stdout",
          "text": [
            "2.5.1+cu121\n",
            "True\n"
          ]
        }
      ],
      "source": [
        "import torch\n",
        "\n",
        "print(torch.__version__)\n",
        "print(torch.cuda.is_available())"
      ]
    },
    {
      "cell_type": "code",
      "source": [
        "tensor1 = torch.tensor([[12, 10, 11, 6], [4, 2, 16, 9]])\n",
        "tensor2 = torch.tensor([[8, 3, 1, 6], [5, 0, 2, 3]])"
      ],
      "metadata": {
        "id": "I7EES5sYslGB"
      },
      "execution_count": 2,
      "outputs": []
    },
    {
      "cell_type": "code",
      "source": [
        "tensor1 - tensor2"
      ],
      "metadata": {
        "colab": {
          "base_uri": "https://localhost:8080/"
        },
        "id": "WJS9VP-VuYQq",
        "outputId": "815b3277-4433-48f3-a150-cbc72b33f45e"
      },
      "execution_count": 3,
      "outputs": [
        {
          "output_type": "execute_result",
          "data": {
            "text/plain": [
              "tensor([[ 4,  7, 10,  0],\n",
              "        [-1,  2, 14,  6]])"
            ]
          },
          "metadata": {},
          "execution_count": 3
        }
      ]
    },
    {
      "cell_type": "code",
      "source": [
        "(tensor1 + tensor2).size()"
      ],
      "metadata": {
        "colab": {
          "base_uri": "https://localhost:8080/"
        },
        "id": "51nr571xuOob",
        "outputId": "a3ba404f-6a31-4030-ed38-6b8ea15e0489"
      },
      "execution_count": 4,
      "outputs": [
        {
          "output_type": "execute_result",
          "data": {
            "text/plain": [
              "torch.Size([2, 4])"
            ]
          },
          "metadata": {},
          "execution_count": 4
        }
      ]
    },
    {
      "cell_type": "code",
      "source": [
        "# Check if device supports GPU\n",
        "if torch.cuda.is_available():\n",
        "    device = torch.device('cuda')\n",
        "else:\n",
        "    device = torch.device('cpu')\n",
        "print(device)"
      ],
      "metadata": {
        "colab": {
          "base_uri": "https://localhost:8080/"
        },
        "id": "mrA79jdCua3q",
        "outputId": "9ab5f250-c3d8-4578-f11e-056cdee65505"
      },
      "execution_count": 5,
      "outputs": [
        {
          "output_type": "stream",
          "name": "stdout",
          "text": [
            "cuda\n"
          ]
        }
      ]
    },
    {
      "cell_type": "code",
      "source": [
        "# GPU Tensor\n",
        "tensor1 = torch.tensor([[12, 10, 11, 6], [4, 2, 16, 9]], device=device)\n",
        "tensor2 = torch.tensor([[8, 3, 1, 6], [5, 0, 2, 3]], device=device)\n",
        "mult_tensor = tensor1 * tensor2\n",
        "print(mult_tensor)"
      ],
      "metadata": {
        "colab": {
          "base_uri": "https://localhost:8080/"
        },
        "id": "MjQyl1npvFL8",
        "outputId": "0025ecd3-6419-4cc4-c56a-6c400a0cc98a"
      },
      "execution_count": 6,
      "outputs": [
        {
          "output_type": "stream",
          "name": "stdout",
          "text": [
            "tensor([[96, 30, 11, 36],\n",
            "        [20,  0, 32, 27]], device='cuda:0')\n"
          ]
        }
      ]
    },
    {
      "cell_type": "code",
      "source": [
        "import numpy as np"
      ],
      "metadata": {
        "id": "jFV8ejItvnf8"
      },
      "execution_count": 7,
      "outputs": []
    },
    {
      "cell_type": "code",
      "source": [
        "list1 = [1,2,3,4,5]\n",
        "array1 = np.array(list1)\n",
        "print(\"Original list:\", list1)\n",
        "print(\"Numpy array:\", array1)\n",
        "print()\n",
        "\n",
        "tuple1 = (6,7,8,9,10)\n",
        "array2 = np.array(tuple1)\n",
        "print(\"Original tuple:\", tuple1)\n",
        "print(\"Numpy array:\", array2)\n",
        "print()\n",
        "\n",
        "# initialize a tensor from a Python list\n",
        "tensor_from_list = torch.tensor([1,2,3,4,5])\n",
        "\n",
        "# initialize a tensor from a tuple\n",
        "tensor_from_tuple = torch.tensor((6,7,8,9,10))\n",
        "\n",
        "# initialize a tensor from an ndarray\n",
        "tensor_from_array=torch.tensor(np.array([11,12,13,14,15]))\n",
        "\n",
        "print(\"Tensor from list:\", tensor_from_list)\n",
        "print(\"Tensor from tuple:\", tensor_from_tuple)\n",
        "print(\"Tensor from array:\",tensor_from_array)"
      ],
      "metadata": {
        "colab": {
          "base_uri": "https://localhost:8080/"
        },
        "id": "WnvEYjJbx60L",
        "outputId": "ef5adc0e-c63e-4a55-8841-bfd644df00d9"
      },
      "execution_count": 8,
      "outputs": [
        {
          "output_type": "stream",
          "name": "stdout",
          "text": [
            "Original list: [1, 2, 3, 4, 5]\n",
            "Numpy array: [1 2 3 4 5]\n",
            "\n",
            "Original tuple: (6, 7, 8, 9, 10)\n",
            "Numpy array: [ 6  7  8  9 10]\n",
            "\n",
            "Tensor from list: tensor([1, 2, 3, 4, 5])\n",
            "Tensor from tuple: tensor([ 6,  7,  8,  9, 10])\n",
            "Tensor from array: tensor([11, 12, 13, 14, 15])\n"
          ]
        }
      ]
    },
    {
      "cell_type": "code",
      "source": [
        "print(type(list1))\n",
        "print(type(array1))\n",
        "print(type(tensor_from_list))\n",
        "print(type(tensor_from_tuple))\n",
        "print(type(tensor_from_array))"
      ],
      "metadata": {
        "colab": {
          "base_uri": "https://localhost:8080/"
        },
        "id": "ZMyE5p_Lyl3N",
        "outputId": "bc383b53-8fae-45d1-8df0-3be403c55b87"
      },
      "execution_count": 9,
      "outputs": [
        {
          "output_type": "stream",
          "name": "stdout",
          "text": [
            "<class 'list'>\n",
            "<class 'numpy.ndarray'>\n",
            "<class 'torch.Tensor'>\n",
            "<class 'torch.Tensor'>\n",
            "<class 'torch.Tensor'>\n"
          ]
        }
      ]
    },
    {
      "cell_type": "code",
      "source": [
        "tensor_emp = torch.empty(3,4)\n",
        "print(\"tensor_emp :\",tensor_emp)\n",
        "print()\n",
        "\n",
        "tensor_zeros = torch.zeros(3,4)\n",
        "print(\"tensor_zeros :\",tensor_zeros)\n",
        "print()\n",
        "\n",
        "tensor_ones= torch.ones(3,4)\n",
        "print(\"tensor_ones :\",tensor_ones)\n",
        "print()"
      ],
      "metadata": {
        "colab": {
          "base_uri": "https://localhost:8080/"
        },
        "id": "kj8wOYXQzaat",
        "outputId": "a8e8627f-bc45-4282-e10f-05ec350ca879"
      },
      "execution_count": 10,
      "outputs": [
        {
          "output_type": "stream",
          "name": "stdout",
          "text": [
            "tensor_emp : tensor([[1.3895e-38, 0.0000e+00, 1.3895e-38, 0.0000e+00],\n",
            "        [1.5077e-38, 0.0000e+00, 1.5631e+19, 4.3230e-41],\n",
            "        [1.3978e-03, 4.3231e-41, 1.4667e-32, 0.0000e+00]])\n",
            "\n",
            "tensor_zeros : tensor([[0., 0., 0., 0.],\n",
            "        [0., 0., 0., 0.],\n",
            "        [0., 0., 0., 0.]])\n",
            "\n",
            "tensor_ones : tensor([[1., 1., 1., 1.],\n",
            "        [1., 1., 1., 1.],\n",
            "        [1., 1., 1., 1.]])\n",
            "\n"
          ]
        }
      ]
    },
    {
      "cell_type": "code",
      "source": [
        "# Tensor filled with random numbers from a uniform distribution\n",
        "tensor_rand_un = torch.rand(4,5)\n",
        "print(\"tensor_rand_un :\",tensor_rand_un)\n",
        "print()\n",
        "\n",
        "# Tensor filled with random numbers from a normal distribution\n",
        "tensor_rand_norm = torch.randn(4,5)\n",
        "print(\"tensor_rand_norm :\",tensor_rand_norm)\n",
        "print()\n",
        "\n",
        "# Tensor filled with random integers generated uniformly\n",
        "tensor_rand_int = torch.randint(3,10,(7,10))\n",
        "print(\"tensor_rand_int :\",tensor_rand_int)\n",
        "print()"
      ],
      "metadata": {
        "colab": {
          "base_uri": "https://localhost:8080/"
        },
        "id": "2OUsxlS6zsdc",
        "outputId": "c87e5cac-8283-40c9-b229-d607b8fd0811"
      },
      "execution_count": 11,
      "outputs": [
        {
          "output_type": "stream",
          "name": "stdout",
          "text": [
            "tensor_rand_un : tensor([[0.3936, 0.6566, 0.9419, 0.0855, 0.0031],\n",
            "        [0.8700, 0.6130, 0.1331, 0.4737, 0.3244],\n",
            "        [0.3829, 0.2748, 0.3345, 0.2372, 0.0590],\n",
            "        [0.9334, 0.4031, 0.9349, 0.6500, 0.9223]])\n",
            "\n",
            "tensor_rand_norm : tensor([[-0.4453, -0.8168,  1.5735,  2.4326, -0.1830],\n",
            "        [-0.9731,  0.6460, -0.1385,  0.0554,  1.6199],\n",
            "        [-1.1770, -0.0621, -0.2962, -0.8838, -0.9848],\n",
            "        [ 0.1080,  1.1178,  0.0656,  0.8192, -1.2705]])\n",
            "\n",
            "tensor_rand_int : tensor([[6, 8, 7, 3, 4, 3, 7, 5, 8, 3],\n",
            "        [4, 8, 3, 9, 4, 3, 9, 5, 5, 6],\n",
            "        [6, 9, 8, 6, 9, 6, 5, 5, 7, 8],\n",
            "        [7, 4, 7, 6, 7, 5, 7, 8, 5, 3],\n",
            "        [3, 5, 8, 3, 4, 6, 6, 9, 4, 3],\n",
            "        [9, 9, 3, 9, 3, 3, 8, 5, 9, 7],\n",
            "        [8, 9, 7, 9, 7, 7, 4, 9, 5, 4]])\n",
            "\n"
          ]
        }
      ]
    },
    {
      "cell_type": "code",
      "source": [
        "# Copy tensor properties\n",
        "tensor_ones = torch.ones_like(tensor_rand_int)\n",
        "print(tensor_ones)"
      ],
      "metadata": {
        "colab": {
          "base_uri": "https://localhost:8080/"
        },
        "id": "e6b8_cb50Zxk",
        "outputId": "8812c6a5-fbb5-435b-99ae-856ffc0b265d"
      },
      "execution_count": 12,
      "outputs": [
        {
          "output_type": "stream",
          "name": "stdout",
          "text": [
            "tensor([[1, 1, 1, 1, 1, 1, 1, 1, 1, 1],\n",
            "        [1, 1, 1, 1, 1, 1, 1, 1, 1, 1],\n",
            "        [1, 1, 1, 1, 1, 1, 1, 1, 1, 1],\n",
            "        [1, 1, 1, 1, 1, 1, 1, 1, 1, 1],\n",
            "        [1, 1, 1, 1, 1, 1, 1, 1, 1, 1],\n",
            "        [1, 1, 1, 1, 1, 1, 1, 1, 1, 1],\n",
            "        [1, 1, 1, 1, 1, 1, 1, 1, 1, 1]])\n"
          ]
        }
      ]
    },
    {
      "cell_type": "code",
      "source": [
        "hey_tensor = torch.tensor([[12, 10, 11, 6], [4, 2, 16, 9], [6, 2, 3, 1]])\n",
        "hey_tensor.device"
      ],
      "metadata": {
        "colab": {
          "base_uri": "https://localhost:8080/"
        },
        "id": "3DGb2f8E08pO",
        "outputId": "92c1f134-1391-4db3-da8d-7c968ae44769"
      },
      "execution_count": 13,
      "outputs": [
        {
          "output_type": "execute_result",
          "data": {
            "text/plain": [
              "device(type='cpu')"
            ]
          },
          "metadata": {},
          "execution_count": 13
        }
      ]
    },
    {
      "cell_type": "code",
      "source": [
        "hey_tensor.dtype"
      ],
      "metadata": {
        "colab": {
          "base_uri": "https://localhost:8080/"
        },
        "id": "4-V29WJ91Fas",
        "outputId": "fe41131c-53d3-4dd1-d764-fb4589645cf1"
      },
      "execution_count": 14,
      "outputs": [
        {
          "output_type": "execute_result",
          "data": {
            "text/plain": [
              "torch.int64"
            ]
          },
          "metadata": {},
          "execution_count": 14
        }
      ]
    },
    {
      "cell_type": "code",
      "source": [
        "hey_tensor.shape"
      ],
      "metadata": {
        "colab": {
          "base_uri": "https://localhost:8080/"
        },
        "id": "_Lnb1Y8_1IA9",
        "outputId": "1c0e42ad-764f-43f8-fe5c-e8ab93c17b12"
      },
      "execution_count": 15,
      "outputs": [
        {
          "output_type": "execute_result",
          "data": {
            "text/plain": [
              "torch.Size([3, 4])"
            ]
          },
          "metadata": {},
          "execution_count": 15
        }
      ]
    },
    {
      "cell_type": "code",
      "source": [
        "hey_tensor.ndim"
      ],
      "metadata": {
        "colab": {
          "base_uri": "https://localhost:8080/"
        },
        "id": "wRdyeq1V1LEk",
        "outputId": "c9ad761d-53e2-408d-b53b-ec5ba416d998"
      },
      "execution_count": 16,
      "outputs": [
        {
          "output_type": "execute_result",
          "data": {
            "text/plain": [
              "2"
            ]
          },
          "metadata": {},
          "execution_count": 16
        }
      ]
    },
    {
      "cell_type": "code",
      "source": [
        "int_tensor= torch.tensor([1,2,3,4,5],dtype=torch.int8)\n",
        "int_tensor.dtype"
      ],
      "metadata": {
        "colab": {
          "base_uri": "https://localhost:8080/"
        },
        "id": "HEpTA_ll1muO",
        "outputId": "684a45a1-4a22-4309-d176-7331455ba8fe"
      },
      "execution_count": 17,
      "outputs": [
        {
          "output_type": "execute_result",
          "data": {
            "text/plain": [
              "torch.int8"
            ]
          },
          "metadata": {},
          "execution_count": 17
        }
      ]
    },
    {
      "cell_type": "code",
      "source": [
        "float_tensor= torch.tensor([6,7,8,9,10], dtype=torch.float32)\n",
        "float_tensor.dtype"
      ],
      "metadata": {
        "colab": {
          "base_uri": "https://localhost:8080/"
        },
        "id": "RFpPS79E11RF",
        "outputId": "408ffbec-3bc0-4206-f951-d86fedd9ad2f"
      },
      "execution_count": 18,
      "outputs": [
        {
          "output_type": "execute_result",
          "data": {
            "text/plain": [
              "torch.float32"
            ]
          },
          "metadata": {},
          "execution_count": 18
        }
      ]
    },
    {
      "cell_type": "code",
      "source": [
        "easy_tensor = torch.tensor([1.1, 5.1])\n",
        "easy_tensor.dtype"
      ],
      "metadata": {
        "colab": {
          "base_uri": "https://localhost:8080/"
        },
        "id": "wSlx95tV14Bl",
        "outputId": "4828d77b-1ec1-4355-807d-83904cb70ed0"
      },
      "execution_count": 19,
      "outputs": [
        {
          "output_type": "execute_result",
          "data": {
            "text/plain": [
              "torch.float32"
            ]
          },
          "metadata": {},
          "execution_count": 19
        }
      ]
    },
    {
      "cell_type": "code",
      "source": [
        "# Cast tensor to new data type\n",
        "int_tensor = int_tensor.float()\n",
        "int_tensor.dtype"
      ],
      "metadata": {
        "colab": {
          "base_uri": "https://localhost:8080/"
        },
        "id": "Vnuwx6nC2HWl",
        "outputId": "26f47100-c66c-4c2e-edad-ec74a7713b93"
      },
      "execution_count": 20,
      "outputs": [
        {
          "output_type": "execute_result",
          "data": {
            "text/plain": [
              "torch.float32"
            ]
          },
          "metadata": {},
          "execution_count": 20
        }
      ]
    },
    {
      "cell_type": "code",
      "source": [
        "last_tensor = easy_tensor.to(dtype=torch.float16)\n",
        "last_tensor.dtype"
      ],
      "metadata": {
        "colab": {
          "base_uri": "https://localhost:8080/"
        },
        "id": "PxfFbXFk2UWu",
        "outputId": "d313feaa-116a-4edf-87b1-5337514b19cc"
      },
      "execution_count": 21,
      "outputs": [
        {
          "output_type": "execute_result",
          "data": {
            "text/plain": [
              "torch.float16"
            ]
          },
          "metadata": {},
          "execution_count": 21
        }
      ]
    },
    {
      "cell_type": "code",
      "source": [
        "# Reproducibility\n",
        "torch.manual_seed(419)\n",
        "torch.rand(5, 5)"
      ],
      "metadata": {
        "colab": {
          "base_uri": "https://localhost:8080/"
        },
        "id": "vAf4EsPc25F_",
        "outputId": "d29bfe0c-535c-4a6c-ece5-ed2769ba85a5"
      },
      "execution_count": 22,
      "outputs": [
        {
          "output_type": "execute_result",
          "data": {
            "text/plain": [
              "tensor([[0.2833, 0.9795, 0.3945, 0.5815, 0.3220],\n",
              "        [0.3359, 0.0347, 0.8720, 0.3458, 0.4302],\n",
              "        [0.7652, 0.5810, 0.9879, 0.9966, 0.4330],\n",
              "        [0.1219, 0.5452, 0.1211, 0.0743, 0.8370],\n",
              "        [0.9455, 0.8749, 0.3266, 0.3864, 0.4162]])"
            ]
          },
          "metadata": {},
          "execution_count": 22
        }
      ]
    },
    {
      "cell_type": "code",
      "source": [
        "# Indexing 1-dim tensor\n",
        "one_dim_tensor=torch.tensor([11, 6, 4, 8, 2, -5, 9, 3])\n",
        "print(one_dim_tensor[2])\n",
        "print(one_dim_tensor[2].item())"
      ],
      "metadata": {
        "colab": {
          "base_uri": "https://localhost:8080/"
        },
        "id": "eEaPfFY04rBH",
        "outputId": "e758529d-b27f-483a-dbcd-991379dfc83f"
      },
      "execution_count": 23,
      "outputs": [
        {
          "output_type": "stream",
          "name": "stdout",
          "text": [
            "tensor(4)\n",
            "4\n"
          ]
        }
      ]
    },
    {
      "cell_type": "code",
      "source": [
        "one_dim_tensor[2:6]"
      ],
      "metadata": {
        "colab": {
          "base_uri": "https://localhost:8080/"
        },
        "id": "F8U5elgQ5Ekv",
        "outputId": "9f338167-fa2d-4d11-93db-ef5b423b2e90"
      },
      "execution_count": 24,
      "outputs": [
        {
          "output_type": "execute_result",
          "data": {
            "text/plain": [
              "tensor([ 4,  8,  2, -5])"
            ]
          },
          "metadata": {},
          "execution_count": 24
        }
      ]
    },
    {
      "cell_type": "code",
      "source": [
        "two_dim_tensor = torch.tensor([\n",
        "    [1, 2, 3, 4, 5],\n",
        "    [6, 7, 8, 9, 10],\n",
        "    [11, 12, 13, 14, 15],\n",
        "    [16, 17, 18, 19, 20]\n",
        "])\n",
        "\n",
        "two_dim_tensor[1][3]"
      ],
      "metadata": {
        "colab": {
          "base_uri": "https://localhost:8080/"
        },
        "id": "VD8jdxOf5xv_",
        "outputId": "2393b4ec-06fc-4ea2-a0f7-7b9ad9dea550"
      },
      "execution_count": 25,
      "outputs": [
        {
          "output_type": "execute_result",
          "data": {
            "text/plain": [
              "tensor(9)"
            ]
          },
          "metadata": {},
          "execution_count": 25
        }
      ]
    },
    {
      "cell_type": "code",
      "source": [
        "print(\"first three elements of the 1st row: \",two_dim_tensor[0, 0:3])\n",
        "print(\"first four elements of the 2nd row: \",two_dim_tensor[1,0:4])"
      ],
      "metadata": {
        "colab": {
          "base_uri": "https://localhost:8080/"
        },
        "id": "I1PAsVlC6ONf",
        "outputId": "cb1a3b60-59f0-420b-9be4-c7f26cf3347f"
      },
      "execution_count": 26,
      "outputs": [
        {
          "output_type": "stream",
          "name": "stdout",
          "text": [
            "first three elements of the 1st row:  tensor([1, 2, 3])\n",
            "first four elements of the 2nd row:  tensor([6, 7, 8, 9])\n"
          ]
        }
      ]
    },
    {
      "cell_type": "code",
      "source": [
        "tensor_criteria = two_dim_tensor[two_dim_tensor<18]\n",
        "print(tensor_criteria)"
      ],
      "metadata": {
        "colab": {
          "base_uri": "https://localhost:8080/"
        },
        "id": "zxjpYaMa6Vi4",
        "outputId": "7ee8c57b-d576-4d1b-abdb-5c2aad20f020"
      },
      "execution_count": 27,
      "outputs": [
        {
          "output_type": "stream",
          "name": "stdout",
          "text": [
            "tensor([ 1,  2,  3,  4,  5,  6,  7,  8,  9, 10, 11, 12, 13, 14, 15, 16, 17])\n"
          ]
        }
      ]
    },
    {
      "cell_type": "code",
      "source": [
        "tensor_criteria.ndim"
      ],
      "metadata": {
        "colab": {
          "base_uri": "https://localhost:8080/"
        },
        "id": "rGfxTyNE6Vt3",
        "outputId": "2e758b81-98f2-4521-a2a0-41a64ef71e3c"
      },
      "execution_count": 28,
      "outputs": [
        {
          "output_type": "execute_result",
          "data": {
            "text/plain": [
              "1"
            ]
          },
          "metadata": {},
          "execution_count": 28
        }
      ]
    },
    {
      "cell_type": "code",
      "source": [
        "stacked_tensor = torch.stack((two_dim_tensor, two_dim_tensor))\n",
        "stacked_tensor"
      ],
      "metadata": {
        "colab": {
          "base_uri": "https://localhost:8080/"
        },
        "id": "i7CHHzPC6VyA",
        "outputId": "bec3b61e-52fa-4c83-9835-f35ca48a2fd6"
      },
      "execution_count": 29,
      "outputs": [
        {
          "output_type": "execute_result",
          "data": {
            "text/plain": [
              "tensor([[[ 1,  2,  3,  4,  5],\n",
              "         [ 6,  7,  8,  9, 10],\n",
              "         [11, 12, 13, 14, 15],\n",
              "         [16, 17, 18, 19, 20]],\n",
              "\n",
              "        [[ 1,  2,  3,  4,  5],\n",
              "         [ 6,  7,  8,  9, 10],\n",
              "         [11, 12, 13, 14, 15],\n",
              "         [16, 17, 18, 19, 20]]])"
            ]
          },
          "metadata": {},
          "execution_count": 29
        }
      ]
    },
    {
      "cell_type": "code",
      "source": [
        "stacked_tensor.shape"
      ],
      "metadata": {
        "colab": {
          "base_uri": "https://localhost:8080/"
        },
        "id": "87Ad5J-B6ugI",
        "outputId": "c9cf32ee-58f7-4646-f68a-8e629655e58a"
      },
      "execution_count": 30,
      "outputs": [
        {
          "output_type": "execute_result",
          "data": {
            "text/plain": [
              "torch.Size([2, 4, 5])"
            ]
          },
          "metadata": {},
          "execution_count": 30
        }
      ]
    },
    {
      "cell_type": "code",
      "source": [
        "first_tensor, second_tensor, third_tensor, fourth_tensor=torch.unbind(two_dim_tensor)\n",
        "print(first_tensor, second_tensor, third_tensor, fourth_tensor)"
      ],
      "metadata": {
        "colab": {
          "base_uri": "https://localhost:8080/"
        },
        "id": "Zc5vQ8JQ6V0o",
        "outputId": "d84fd819-ed1a-4302-9747-ffa85bd34838"
      },
      "execution_count": 31,
      "outputs": [
        {
          "output_type": "stream",
          "name": "stdout",
          "text": [
            "tensor([1, 2, 3, 4, 5]) tensor([ 6,  7,  8,  9, 10]) tensor([11, 12, 13, 14, 15]) tensor([16, 17, 18, 19, 20])\n"
          ]
        }
      ]
    },
    {
      "cell_type": "code",
      "source": [
        "# Automatically splits by rows unless otherwise specified (dim=1)\n",
        "torch.unbind(two_dim_tensor,dim=1)"
      ],
      "metadata": {
        "colab": {
          "base_uri": "https://localhost:8080/"
        },
        "id": "x2UreP0o6V24",
        "outputId": "36c72166-df8a-4f7b-8fe2-63e185349d18"
      },
      "execution_count": 32,
      "outputs": [
        {
          "output_type": "execute_result",
          "data": {
            "text/plain": [
              "(tensor([ 1,  6, 11, 16]),\n",
              " tensor([ 2,  7, 12, 17]),\n",
              " tensor([ 3,  8, 13, 18]),\n",
              " tensor([ 4,  9, 14, 19]),\n",
              " tensor([ 5, 10, 15, 20]))"
            ]
          },
          "metadata": {},
          "execution_count": 32
        }
      ]
    },
    {
      "cell_type": "code",
      "source": [
        "# Basic math functions\n",
        "\n",
        "a=torch.tensor([10, 7, 8, 6, 2])\n",
        "b=torch.tensor([ 1, 7, 4, 3, 8])\n",
        "\n",
        "print('adding tensors a and b:', a.add(b))\n",
        "print('multiplying tensors a and b:', a.mul(b))\n",
        "print('dividing tensors a and b:', a.div(b))"
      ],
      "metadata": {
        "colab": {
          "base_uri": "https://localhost:8080/"
        },
        "id": "43EdOA5570ug",
        "outputId": "912d33d4-bc53-403e-ce61-a4d99f3c9bb9"
      },
      "execution_count": 33,
      "outputs": [
        {
          "output_type": "stream",
          "name": "stdout",
          "text": [
            "adding tensors a and b: tensor([11, 14, 12,  9, 10])\n",
            "multiplying tensors a and b: tensor([10, 49, 32, 18, 16])\n",
            "dividing tensors a and b: tensor([10.0000,  1.0000,  2.0000,  2.0000,  0.2500])\n"
          ]
        }
      ]
    },
    {
      "cell_type": "code",
      "source": [
        "# Reduction functions (mean function only works when tensor data type is float/complex)\n",
        "c = torch.tensor([[20., 8., 8., 11.], [3., 19., 14., 3.]])\n",
        "print('Mean of the tensor c:', torch.mean(c))\n",
        "print('Max of the tensor c:', torch.max(c))\n",
        "print('Min of the tensor c:', torch.min(c))\n",
        "print('Sum of the tensor c:', torch.sum(c))\n",
        "print('Product of the tensor c:', torch.prod(c))\n",
        "print('Unique elements of the tensor c:', torch.unique(c))\n",
        "print('Argmax of the tensor c:', torch.argmax(c))\n",
        "print('Argmin of the tensor c:', torch.argmin(c))\n",
        "print('Variance of the tensor c:', torch.var(c))\n",
        "print('Standard deviation of the tensor c:', torch.std(c))\n",
        "print('Median of the tensor c:', torch.median(c))\n",
        "print()\n",
        "\n",
        "print('Sorted elements of the tensor c:', torch.sort(c))\n",
        "print()\n",
        "\n",
        "print('Mode of the tensor c:', torch.mode(c))"
      ],
      "metadata": {
        "colab": {
          "base_uri": "https://localhost:8080/"
        },
        "id": "okFanTcp80cA",
        "outputId": "005fa4aa-7325-4cd2-e20a-60f58623584b"
      },
      "execution_count": 34,
      "outputs": [
        {
          "output_type": "stream",
          "name": "stdout",
          "text": [
            "Mean of the tensor c: tensor(10.7500)\n",
            "Max of the tensor c: tensor(20.)\n",
            "Min of the tensor c: tensor(3.)\n",
            "Sum of the tensor c: tensor(86.)\n",
            "Product of the tensor c: tensor(33707520.)\n",
            "Unique elements of the tensor c: tensor([ 3.,  8., 11., 14., 19., 20.])\n",
            "Argmax of the tensor c: tensor(0)\n",
            "Argmin of the tensor c: tensor(4)\n",
            "Variance of the tensor c: tensor(42.7857)\n",
            "Standard deviation of the tensor c: tensor(6.5411)\n",
            "Median of the tensor c: tensor(8.)\n",
            "\n",
            "Sorted elements of the tensor c: torch.return_types.sort(\n",
            "values=tensor([[ 8.,  8., 11., 20.],\n",
            "        [ 3.,  3., 14., 19.]]),\n",
            "indices=tensor([[1, 2, 3, 0],\n",
            "        [0, 3, 2, 1]]))\n",
            "\n",
            "Mode of the tensor c: torch.return_types.mode(\n",
            "values=tensor([8., 3.]),\n",
            "indices=tensor([2, 3]))\n"
          ]
        }
      ]
    },
    {
      "cell_type": "code",
      "source": [
        "# Compute the dot product (scalar) of two 1d tensors\n",
        "first_tensor = torch.tensor([1,2,3])\n",
        "second_tensor = torch.tensor([4,5,6])\n",
        "\n",
        "dot_product = torch.matmul(first_tensor,second_tensor)\n",
        "dot_product"
      ],
      "metadata": {
        "colab": {
          "base_uri": "https://localhost:8080/"
        },
        "id": "PoVPqlQ0-j1s",
        "outputId": "625adf36-c58a-4a45-b76e-fe00fbca92d3"
      },
      "execution_count": 35,
      "outputs": [
        {
          "output_type": "execute_result",
          "data": {
            "text/plain": [
              "tensor(32)"
            ]
          },
          "metadata": {},
          "execution_count": 35
        }
      ]
    },
    {
      "cell_type": "code",
      "source": [
        "# Compute the matrix-matrix product (2D tensor) of two 2d tensors\n",
        "first_2d_tensor = torch.tensor([[1,2,3],[-1,-2,-3]])\n",
        "second_2d_tensor = torch.tensor([[-1,-2],[4,5],[4,5]])\n",
        "\n",
        "print(first_2d_tensor.shape)\n",
        "print(second_2d_tensor.shape)\n",
        "print()\n",
        "\n",
        "result_2d_tensor = torch.matmul(first_2d_tensor, second_2d_tensor)\n",
        "result_2d_tensor"
      ],
      "metadata": {
        "colab": {
          "base_uri": "https://localhost:8080/"
        },
        "id": "Gb4EI_QG-td5",
        "outputId": "998dc5ba-5ca0-4053-c028-3c74065641d0"
      },
      "execution_count": 36,
      "outputs": [
        {
          "output_type": "stream",
          "name": "stdout",
          "text": [
            "torch.Size([2, 3])\n",
            "torch.Size([3, 2])\n",
            "\n"
          ]
        },
        {
          "output_type": "execute_result",
          "data": {
            "text/plain": [
              "tensor([[ 19,  23],\n",
              "        [-19, -23]])"
            ]
          },
          "metadata": {},
          "execution_count": 36
        }
      ]
    },
    {
      "cell_type": "code",
      "source": [
        "# Compute the matrix product of 5 2d tensors\n",
        "first_ten = torch.randn(2, 3)\n",
        "second_ten = torch.randn(3, 4)\n",
        "third_ten = torch.randn(4, 5)\n",
        "fourth_ten = torch.randn(5, 6)\n",
        "fifth_ten = torch.randn(6, 7)\n",
        "torch.linalg.multi_dot((first_ten, second_ten, third_ten, fourth_ten, fifth_ten))"
      ],
      "metadata": {
        "colab": {
          "base_uri": "https://localhost:8080/"
        },
        "id": "GkWBkH9T-2_J",
        "outputId": "88124aa3-80c1-419e-ba31-bf9536caa9ef"
      },
      "execution_count": 37,
      "outputs": [
        {
          "output_type": "execute_result",
          "data": {
            "text/plain": [
              "tensor([[ 63.8511, -66.0776,  26.4196, -32.6276,  23.7335,  22.9964, -47.9491],\n",
              "        [ 24.5874,  -3.4840,   2.8344, -11.6398,  20.5493,   5.2261,  -6.5670]])"
            ]
          },
          "metadata": {},
          "execution_count": 37
        }
      ]
    },
    {
      "cell_type": "code",
      "source": [
        "# Computing eigenvalues and eigenvectors\n",
        "A = torch.randn(4,4)\n",
        "print(\"Matrix:\", A)\n",
        "eigenvalues, eigenvectors = torch.linalg.eig(A)\n",
        "\n",
        "print(\"Eigen Values:\", eigenvalues)\n",
        "print(\"Eigen Vectors:\", eigenvectors)"
      ],
      "metadata": {
        "colab": {
          "base_uri": "https://localhost:8080/"
        },
        "id": "vB-QcomE_C7R",
        "outputId": "7ab114fd-3344-4f26-b31a-8a3b39e3dd33"
      },
      "execution_count": 38,
      "outputs": [
        {
          "output_type": "stream",
          "name": "stdout",
          "text": [
            "Matrix: tensor([[-1.4943, -0.9742, -0.1183,  1.3456],\n",
            "        [-0.8110, -1.2449,  0.8085,  0.6747],\n",
            "        [ 0.0609,  2.7645, -0.4693,  0.3487],\n",
            "        [-0.0090, -1.5844, -1.6820, -1.2626]])\n",
            "Eigen Values: tensor([-2.9067+0.0000j,  0.4365+0.0000j, -1.0004+1.0825j, -1.0004-1.0825j])\n",
            "Eigen Vectors: tensor([[ 0.4531+0.0000j,  0.5914+0.0000j,  0.6295+0.0000j,  0.6295-0.0000j],\n",
            "        [ 0.5872+0.0000j, -0.2346+0.0000j,  0.0436+0.1053j,  0.0436-0.1053j],\n",
            "        [-0.6618+0.0000j, -0.4295+0.0000j,  0.2651-0.3689j,  0.2651+0.3689j],\n",
            "        [-0.1087+0.0000j,  0.6409+0.0000j,  0.2859+0.5502j,  0.2859-0.5502j]])\n"
          ]
        }
      ]
    },
    {
      "cell_type": "code",
      "source": [
        "# Define tensors\n",
        "x = torch.autograd.Variable(torch.Tensor([2]),requires_grad=True)\n",
        "y = torch.autograd.Variable(torch.Tensor([1]),requires_grad=True)\n",
        "z = torch.autograd.Variable(torch.Tensor([5]),requires_grad=True)\n",
        "\n",
        "# f(x, y, z) = (x - y)z\n",
        "a = x - y\n",
        "f = z * a\n",
        "\n",
        "print(\"Final value for Function f = \", f)\n",
        "\n",
        "#Compute gradients\n",
        "f.backward()\n",
        "\n",
        "#Print the gradient value\n",
        "print(\"Gradient value for x:\",x.grad)\n",
        "print(\"Gradient value for y:\",y.grad)\n",
        "print(\"Gradient value for z:\",z.grad)"
      ],
      "metadata": {
        "colab": {
          "base_uri": "https://localhost:8080/"
        },
        "id": "27M3sWzKA116",
        "outputId": "85ef243c-e813-4b3d-974c-b4f12cb11c25"
      },
      "execution_count": 39,
      "outputs": [
        {
          "output_type": "stream",
          "name": "stdout",
          "text": [
            "Final value for Function f =  tensor([5.], grad_fn=<MulBackward0>)\n",
            "Gradient value for x: tensor([5.])\n",
            "Gradient value for y: tensor([-5.])\n",
            "Gradient value for z: tensor([1.])\n"
          ]
        }
      ]
    }
  ]
}