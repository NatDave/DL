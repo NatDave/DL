{
 "cells": [
  {
   "cell_type": "code",
   "execution_count": 5,
   "metadata": {},
   "outputs": [],
   "source": [
    "from PIL import Image\n",
    "import numpy as np\n",
    "import pandas as pd\n",
    "\n",
    "# Read the image\n",
    "image_path = r'C:\\Users\\natda\\Desktop\\New\\my_image.jpg'\n",
    "image = Image.open(image_path)\n",
    "\n",
    "# image"
   ]
  },
  {
   "cell_type": "code",
   "execution_count": 6,
   "metadata": {},
   "outputs": [
    {
     "name": "stdout",
     "output_type": "stream",
     "text": [
      "Original size: (4057, 6000)\n"
     ]
    }
   ],
   "source": [
    "# Check the image size\n",
    "original_size = image.size\n",
    "print(f'Original size: {original_size}')"
   ]
  },
  {
   "cell_type": "code",
   "execution_count": 7,
   "metadata": {},
   "outputs": [
    {
     "name": "stdout",
     "output_type": "stream",
     "text": [
      "Resized size: (28, 28)\n"
     ]
    }
   ],
   "source": [
    "# Resize the image\n",
    "new_size = (28, 28)\n",
    "image_resized = image.resize(new_size)\n",
    "print(f'Resized size: {image_resized.size}')"
   ]
  },
  {
   "cell_type": "code",
   "execution_count": 10,
   "metadata": {},
   "outputs": [
    {
     "data": {
      "image/jpeg": "[encoded data removed]",
      "image/png": "[encoded data removed]",
      "text/plain": [
       "<PIL.Image.Image image mode=RGB size=28x28>"
      ]
     },
     "execution_count": 10,
     "metadata": {},
     "output_type": "execute_result"
    }
   ],
   "source": [
    "image_resized"
   ]
  },
  {
   "cell_type": "code",
   "execution_count": 15,
   "metadata": {},
   "outputs": [
    {
     "name": "stdout",
     "output_type": "stream",
     "text": [
      "Image array shape: (28, 28, 3)\n"
     ]
    }
   ],
   "source": [
    "# Convert the image to a numpy array\n",
    "image_array = np.array(image_resized)\n",
    "print(f'Image array shape: {image_array.shape}')"
   ]
  },
  {
   "cell_type": "code",
   "execution_count": 14,
   "metadata": {},
   "outputs": [
    {
     "data": {
      "text/plain": [
       "array([[[ 77, 143, 158],\n",
       "        [ 73, 144, 158],\n",
       "        [ 22,  60,  68],\n",
       "        ...,\n",
       "        [126,  45,  25],\n",
       "        [ 39,  84,  92],\n",
       "        [ 85, 167, 185]],\n",
       "\n",
       "       [[ 63, 126, 139],\n",
       "        [ 60,  79,  78],\n",
       "        [ 93,  52,  33],\n",
       "        ...,\n",
       "        [ 72,  89,  78],\n",
       "        [ 50,  83,  80],\n",
       "        [ 43,  88,  97]],\n",
       "\n",
       "       [[ 18,  22,  20],\n",
       "        [145,  68,  33],\n",
       "        [179,  77,  40],\n",
       "        ...,\n",
       "        [ 79, 130, 121],\n",
       "        [ 66, 103,  97],\n",
       "        [ 47,  45,  23]],\n",
       "\n",
       "       ...,\n",
       "\n",
       "       [[ 64,  45,  21],\n",
       "        [154, 158,  88],\n",
       "        [174, 202,  73],\n",
       "        ...,\n",
       "        [108,  60,  49],\n",
       "        [ 76,  41,  31],\n",
       "        [ 57,  50,  51]],\n",
       "\n",
       "       [[ 76,  54,   9],\n",
       "        [187, 208,  98],\n",
       "        [198, 217, 139],\n",
       "        ...,\n",
       "        [ 70,  36,  27],\n",
       "        [ 24,   9,   5],\n",
       "        [ 42,  37,  43]],\n",
       "\n",
       "       [[ 73,  44,   8],\n",
       "        [105, 119,  48],\n",
       "        [178, 201,  78],\n",
       "        ...,\n",
       "        [ 19,   6,   2],\n",
       "        [ 35,  32,  38],\n",
       "        [100,  89, 105]]], dtype=uint8)"
      ]
     },
     "execution_count": 14,
     "metadata": {},
     "output_type": "execute_result"
    }
   ],
   "source": [
    "image_array"
   ]
  },
  {
   "cell_type": "code",
   "execution_count": 16,
   "metadata": {},
   "outputs": [
    {
     "data": {
      "text/plain": [
       "(2352, 1)"
      ]
     },
     "execution_count": 16,
     "metadata": {},
     "output_type": "execute_result"
    }
   ],
   "source": [
    "# Flatten the array and convert to a DataFrame\n",
    "image_array_flattened = image_array.flatten()\n",
    "df = pd.DataFrame(image_array_flattened)\n",
    "\n",
    "df.shape"
   ]
  },
  {
   "cell_type": "code",
   "execution_count": 12,
   "metadata": {},
   "outputs": [
    {
     "name": "stdout",
     "output_type": "stream",
     "text": [
      "Image data saved to C:\\Users\\natda\\Desktop\\New\\image_data.csv\n"
     ]
    }
   ],
   "source": [
    "# Save the DataFrame to a CSV file\n",
    "csv_path = r'C:\\Users\\natda\\Desktop\\New\\image_data.csv'\n",
    "df.to_csv(csv_path, index=False)\n",
    "print(f'Image data saved to {csv_path}')"
   ]
  },
  {
   "cell_type": "code",
   "execution_count": null,
   "metadata": {},
   "outputs": [],
   "source": [
    "import pandas as pd\n",
    "import numpy as np\n",
    "\n",
    "# Load the CSV file into a DataFrame\n",
    "csv_path = 'path/to/your/image_data.csv'\n",
    "df = pd.read_csv(csv_path)\n",
    "\n",
    "# Convert the DataFrame back to a numpy array\n",
    "image_array_flattened = df.to_numpy().flatten()\n",
    "\n",
    "# Reshape the flattened array back to the original shape (28, 28, 3)\n",
    "original_shape = (28, 28, 3)\n",
    "image_array_restored = image_array_flattened.reshape(original_shape)\n",
    "\n",
    "print(f'Restored image array shape: {image_array_restored.shape}')\n"
   ]
  }
 ],
 "metadata": {
  "kernelspec": {
   "display_name": "Python 3",
   "language": "python",
   "name": "python3"
  },
  "language_info": {
   "codemirror_mode": {
    "name": "ipython",
    "version": 3
   },
   "file_extension": ".py",
   "mimetype": "text/x-python",
   "name": "python",
   "nbconvert_exporter": "python",
   "pygments_lexer": "ipython3",
   "version": "3.10.0"
  }
 },
 "nbformat": 4,
 "nbformat_minor": 2
}
